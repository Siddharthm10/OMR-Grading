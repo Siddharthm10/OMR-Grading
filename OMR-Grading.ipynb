{
 "cells": [
  {
   "cell_type": "markdown",
   "metadata": {},
   "source": [
    "# OMR Grading with OpenCV\n"
   ]
  },
  {
   "cell_type": "code",
   "execution_count": 1,
   "metadata": {},
   "outputs": [],
   "source": [
    "# USAGE\n",
    "# python test_grader.py --image images/test_01.png\n",
    "\n",
    "# import the necessary packages\n",
    "from imutils.perspective import four_point_transform\n",
    "from imutils import contours\n",
    "import numpy as np\n",
    "import argparse\n",
    "import imutils\n",
    "import cv2\n"
   ]
  },
  {
   "cell_type": "code",
   "execution_count": null,
   "metadata": {},
   "outputs": [],
   "source": [
    "# construct the argument parse and parse the arguments\n",
    "ap = argparse.ArgumentParser()\n",
    "ap.add_argument(\"-i\", \"--image\", required=True,\n",
    "\thelp=\"path to the input image\")\n",
    "args = vars(ap.parse_args())\n"
   ]
  },
  {
   "cell_type": "code",
   "execution_count": null,
   "metadata": {},
   "outputs": [],
   "source": [
    "# define the answer key which maps the question number\n",
    "# to the correct answer\n",
    "ANSWER_KEY = {0: 1, 1: 4, 2: 0, 3: 3, 4: 1}\n",
    "\n",
    "# load the image, convert it to grayscale, blur it\n",
    "# slightly, then find edges\n",
    "image = cv2.imread(args[\"image\"])\n",
    "gray = cv2.cvtColor(image, cv2.COLOR_BGR2GRAY)\n",
    "blurred = cv2.GaussianBlur(gray, (5, 5), 0)\n",
    "edged = cv2.Canny(blurred, 75, 200)\n"
   ]
  },
  {
   "cell_type": "code",
   "execution_count": null,
   "metadata": {},
   "outputs": [],
   "source": [
    "# find contours in the edge map, then initialize\n",
    "# the contour that corresponds to the document\n",
    "cnts = cv2.findContours(edged.copy(), cv2.RETR_EXTERNAL,                #RETR_EXTERNAL = https://docs.opencv.org/3.4/d9/d8b/tutorial_py_contours_hierarchy.html Returns only the eldest of the family that is the external contour\n",
    "\tcv2.CHAIN_APPROX_SIMPLE)                                            #CHAIN_APPROX_SIMPLE = It saves out memory by giving a cotour of 4 points for a triangle rather than tracing the boundary\n",
    "cnts = imutils.grab_contours(cnts)                                      #grabs the appropriate tuple value\n",
    "docCnt = None\n",
    "\n",
    "# ensure that at least one contour was found\n",
    "if len(cnts) > 0:\n",
    "\t# sort the contours according to their size in\n",
    "\t# descending order\n",
    "\tcnts = sorted(cnts, key=cv2.contourArea, reverse=True)\n",
    "\n",
    "\t# loop over the sorted contours\n",
    "\tfor c in cnts:\n",
    "\t\t# approximate the contour\n",
    "\t\tperi = cv2.arcLength(c, True)                                 #arcLength gives the perimeter of the contour\n",
    "\t\tapprox = cv2.approxPolyDP(c, 0.02 * peri, True)               #approxPolyDP with less no. of vertices.\n",
    "\n",
    "\t\t# if our approximated contour has four points,\n",
    "\t\t# then we can assume we have found the paper\n",
    "\t\tif len(approx) == 4:\n",
    "\t\t\tdocCnt = approx\n",
    "\t\t\tbreak\n"
   ]
  },
  {
   "cell_type": "code",
   "execution_count": null,
   "metadata": {},
   "outputs": [],
   "source": [
    "# apply a four point perspective transform to both the\n",
    "# original image and grayscale image to obtain a top-down\n",
    "# birds eye view of the paper\n",
    "paper = four_point_transform(image, docCnt.reshape(4, 2))\n",
    "warped = four_point_transform(gray, docCnt.reshape(4, 2))\n"
   ]
  },
  {
   "cell_type": "code",
   "execution_count": null,
   "metadata": {},
   "outputs": [],
   "source": [
    "# apply Otsu's thresholding method to binarize the warped\n",
    "# piece of paper\n",
    "thresh = cv2.threshold(warped, 0, 255,\n",
    "\tcv2.THRESH_BINARY_INV | cv2.THRESH_OTSU)[1]                       #warped is the image name, 1st integer decreases the alpha value (of 225 or less) to 0; others (>225)to 255\n",
    "                                                                      #we get a black and white image \n",
    "# find contours in the thresholded image, then initialize\n",
    "# the list of contours that correspond to questions\n",
    "cnts = cv2.findContours(thresh.copy(), cv2.RETR_EXTERNAL,\n",
    "\tcv2.CHAIN_APPROX_SIMPLE)\n",
    "cnts = imutils.grab_contours(cnts)\n",
    "questionCnts = []\n"
   ]
  },
  {
   "cell_type": "code",
   "execution_count": null,
   "metadata": {},
   "outputs": [],
   "source": [
    "# loop over the contours\n",
    "for c in cnts:\n",
    "\t# compute the bounding box of the contour, then use the\n",
    "\t# bounding box to derive the aspect ratio\n",
    "\t(x, y, w, h) = cv2.boundingRect(c)\n",
    "\tar = w / float(h)\n",
    "\n",
    "\t# in order to label the contour as a question, region\n",
    "\t# should be sufficiently wide, sufficiently tall, and\n",
    "\t# have an aspect ratio approximately equal to 1\n",
    "\tif w >= 20 and h >= 20 and ar >= 0.9 and ar <= 1.1:\n",
    "\t\tquestionCnts.append(c)\n"
   ]
  },
  {
   "cell_type": "code",
   "execution_count": null,
   "metadata": {},
   "outputs": [],
   "source": [
    "# sort the question contours top-to-bottom, then initialize\n",
    "# the total number of correct answers\n",
    "questionCnts = contours.sort_contours(questionCnts,\n",
    "\tmethod=\"top-to-bottom\")[0]\n",
    "correct = 0\n"
   ]
  },
  {
   "cell_type": "code",
   "execution_count": null,
   "metadata": {},
   "outputs": [],
   "source": [
    "# each question has 5 possible answers, to loop over the\n",
    "# question in batches of 5\n",
    "for (q, i) in enumerate(np.arange(0, len(questionCnts), 5)):\n",
    "\t# sort the contours for the current question from\n",
    "\t# left to right, then initialize the index of the\n",
    "\t# bubbled answer\n",
    "\tcnts = contours.sort_contours(questionCnts[i:i + 5])[0]\n",
    "\tbubbled = None\n",
    "\n",
    "\t# loop over the sorted contours\n",
    "\tfor (j, c) in enumerate(cnts):\n",
    "\t\t# construct a mask that reveals only the current\n",
    "\t\t# \"bubble\" for the question\n",
    "\t\tmask = np.zeros(thresh.shape, dtype=\"uint8\")\n",
    "\t\tcv2.drawContours(mask, [c], -1, 255, -1)\n",
    "\n",
    "\t\t# apply the mask to the thresholded image, then\n",
    "\t\t# count the number of non-zero pixels in the\n",
    "\t\t# bubble area\n",
    "\t\tmask = cv2.bitwise_and(thresh, thresh, mask=mask)\n",
    "\t\ttotal = cv2.countNonZero(mask)\n",
    "\n",
    "\t\t# if the current total has a larger number of total\n",
    "\t\t# non-zero pixels, then we are examining the currently\n",
    "\t\t# bubbled-in answer\n",
    "\t\tif bubbled is None or total > bubbled[0]:\n",
    "\t\t\tbubbled = (total, j)\n",
    "\n",
    "\t# initialize the contour color and the index of the\n",
    "\t# *correct* answer\n",
    "\tcolor = (0, 0, 255)\n",
    "\tk = ANSWER_KEY[q]\n",
    "\n",
    "\t# check to see if the bubbled answer is correct\n",
    "\tif k == bubbled[1]:\n",
    "\t\tcolor = (0, 255, 0)\n",
    "\t\tcorrect += 1\n",
    "\n",
    "\t# draw the outline of the correct answer on the test\n",
    "\tcv2.drawContours(paper, [cnts[k]], -1, color, 3)\n"
   ]
  },
  {
   "cell_type": "code",
   "execution_count": null,
   "metadata": {},
   "outputs": [],
   "source": [
    "# grab the test taker\n",
    "score = (correct / 5.0) * 100\n",
    "print(\"[INFO] score: {:.2f}%\".format(score))\n",
    "cv2.putText(paper, \"{:.2f}%\".format(score), (10, 30),\n",
    "\tcv2.FONT_HERSHEY_SIMPLEX, 0.9, (0, 0, 255), 2)\n",
    "cv2.imshow(\"Original\", image)\n",
    "cv2.imshow(\"Exam\", paper)\n",
    "cv2.waitKey(0)\n"
   ]
  },
  {
   "cell_type": "code",
   "execution_count": null,
   "metadata": {},
   "outputs": [],
   "source": [
    "!jupyter nbconvert --to script OMR-Grading.ipynb"
   ]
  },
  {
   "cell_type": "markdown",
   "metadata": {},
   "source": [
    "### command line - python OMR-Grading.py --image image/test.jpg "
   ]
  },
  {
   "cell_type": "markdown",
   "metadata": {},
   "source": [
    "- Work to be done \n",
    "    - What happens if a user does not bubble in an answer for a particular question?\n",
    "    - What if the user is nefarious and marks multiple bubbles as “correct” in the same row?"
   ]
  }
 ],
 "metadata": {
  "kernelspec": {
   "display_name": "OpenCV",
   "language": "python",
   "name": "cv"
  },
  "language_info": {
   "codemirror_mode": {
    "name": "ipython",
    "version": 3
   },
   "file_extension": ".py",
   "mimetype": "text/x-python",
   "name": "python",
   "nbconvert_exporter": "python",
   "pygments_lexer": "ipython3",
   "version": "3.7.6"
  }
 },
 "nbformat": 4,
 "nbformat_minor": 4
}
